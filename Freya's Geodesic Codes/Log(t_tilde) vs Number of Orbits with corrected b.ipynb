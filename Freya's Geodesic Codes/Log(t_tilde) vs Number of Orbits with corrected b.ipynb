{
 "cells": [
  {
   "cell_type": "code",
   "execution_count": 1,
   "id": "a0169c72",
   "metadata": {},
   "outputs": [],
   "source": [
    "import numpy as np\n",
    "import matplotlib.pyplot as plt"
   ]
  },
  {
   "cell_type": "code",
   "execution_count": 2,
   "id": "fee6d7fa",
   "metadata": {},
   "outputs": [],
   "source": [
    "# --- Physical Constants in SI units ---\n",
    "G = 6.67430e-11         # m^3 kg^-1 s^-2\n",
    "c = 2.99792458e8        # m/s\n",
    "M_sun = 1.989e30      # kg\n",
    "AU = 1.496e11           # m\n",
    "\n",
    "# Schwarzschild radius\n",
    "r_s = 2 * G * M_sun / c**2\n",
    "r_s2_inv = 1 / r_s**2"
   ]
  },
  {
   "cell_type": "code",
   "execution_count": 3,
   "id": "d80c714a",
   "metadata": {},
   "outputs": [],
   "source": [
    "# Semiclassical perturbation\n",
    "t_tilde = 0\n",
    "t_tilde1 = 0.1\n",
    "t_tilde2 = 0.01\n",
    "t_tilde3 = 1e-3\n",
    "t_tilde4 = 1e-4\n",
    "t_tilde5 = 1e-5\n",
    "t_tilde6 = 1e-6\n",
    "t_tilde7 = 1e-7\n",
    "t_tilde8 = 1e-8\n",
    "t_tilde9 = 1e-9\n",
    "t_tilde10 = 1e-10\n",
    "t_tilde11 = 1e-11\n",
    "t_tilde12 = 1e-12"
   ]
  },
  {
   "cell_type": "code",
   "execution_count": 18,
   "id": "b7d01c9a",
   "metadata": {},
   "outputs": [],
   "source": [
    "# Critical distances\n",
    "P_c = 1.5 * r_s\n",
    "def b_c(t):\n",
    "    return (3 * np.sqrt(3) / 2) * r_s*(1+t)\n",
    "def zeta_sq(t):\n",
    "    b = b_c(t)\n",
    "    return (r_s / b)**2"
   ]
  },
  {
   "cell_type": "code",
   "execution_count": 19,
   "id": "09e1b83a",
   "metadata": {},
   "outputs": [],
   "source": [
    "def coth(z):\n",
    "    return 1.0 / np.tanh(z)\n",
    "\n",
    "def htt(x):\n",
    "    inv_x2 = 1.0 / (x * x)\n",
    "    return -2 * x**3 * (x**2 - coth(inv_x2))\n",
    "\n",
    "def hrr(x):\n",
    "    inv_x2 = 1.0 / (x * x)\n",
    "    denom = (1 - x)**2\n",
    "    return -2 * x**2 / denom * (x**2 - coth(inv_x2))\n",
    "\n",
    "def hphiphi(x):\n",
    "    return -2 * r_s**2 / x * (x - coth(1.0 / x))\n",
    "\n",
    "def g0(x, t):\n",
    "    zetasq = zeta_sq(t)\n",
    "    return x**3 - x**2 + zetasq\n",
    "\n",
    "def dg0(x):\n",
    "    return 3 * x**2 - 2 * x\n",
    "\n",
    "def h(x,t):\n",
    "    g = g0(x,t)\n",
    "    h_rr = hrr(x)\n",
    "    h_pp = hphiphi(x)\n",
    "    h_tt = htt(x)\n",
    "    zetasq = zeta_sq(t)\n",
    "    term1 = g * ((1 - x) * h_rr - x**2 * r_s2_inv * h_pp)\n",
    "    term2 = -zetasq * (x**2 * r_s2_inv * h_pp - h_tt / (1 - x))\n",
    "    return term1 + term2\n",
    "\n",
    "def dh(x,t):\n",
    "    dx = 1e-10\n",
    "    return (h(x + dx, t) - h(x - dx, t)) / (2 * dx)"
   ]
  },
  {
   "cell_type": "code",
   "execution_count": 13,
   "id": "e62785db",
   "metadata": {},
   "outputs": [],
   "source": [
    "def deriv(y,t):\n",
    "    x, v = y\n",
    "    return np.array([v, 0.5 * (dg0(x) + t * dh(x,t))])\n",
    "\n",
    "def rk4_step(y, h,t):\n",
    "    k1 = h * deriv(y,t)\n",
    "    k2 = h * deriv(y + 0.5 * k1,t)\n",
    "    k3 = h * deriv(y + 0.5 * k2,t)\n",
    "    k4 = h * deriv(y + k3,t)\n",
    "    return y + (k1 + 2*k2 + 2*k3 + k4) / 6.0\n",
    "\n",
    "def integrate_rk4(y_ini, phis, h_phi,t):\n",
    "    N = len(phis)\n",
    "    ys = np.empty((N, 2))\n",
    "    y = y_ini.copy()\n",
    "    for i in range(N):\n",
    "        ys[i] = y\n",
    "        y = rk4_step(y, h_phi,t)\n",
    "    return ys"
   ]
  },
  {
   "cell_type": "code",
   "execution_count": 10,
   "id": "ffbc1551",
   "metadata": {},
   "outputs": [],
   "source": [
    "# Initial conditions\n",
    "x0 = r_s / P_c\n",
    "v0 = 0.0\n",
    "y_ini = np.array([x0, v0])\n",
    "\n",
    "# Integration setup\n",
    "n_revolutions = 50\n",
    "# h_phi = 1e-7\n",
    "h_phi = 10**-3\n",
    "phis = np.arange(0, 2 * np.pi * n_revolutions, h_phi)"
   ]
  },
  {
   "cell_type": "code",
   "execution_count": 14,
   "id": "5baf6f5a",
   "metadata": {},
   "outputs": [],
   "source": [
    "#trial code to find the numer of revolutions before the deviation becomes significant\n",
    "def find_separation_point(y_ini, h_phi, t1, t2):\n",
    "    ys1 = []\n",
    "    ys2 = []\n",
    "    y1 = y_ini.copy()\n",
    "    y2 = y_ini.copy()\n",
    "    while abs(y1[0]-y2[0]) < 0.01:\n",
    "        ys1.append(y1)\n",
    "        ys2.append(y2)\n",
    "        y1 = rk4_step(y1, h_phi,t1)\n",
    "        y2 = rk4_step(y2, h_phi,t2)\n",
    "    index = len(ys2)\n",
    "    total_angle_change = phis[index]\n",
    "    number_of_revolutions = total_angle_change/(2*np.pi)\n",
    "    return number_of_revolutions"
   ]
  },
  {
   "cell_type": "code",
   "execution_count": 20,
   "id": "f400b644",
   "metadata": {},
   "outputs": [],
   "source": [
    "#Calculations\n",
    "N1 = find_separation_point(y_ini, h_phi, t_tilde, t_tilde1) \n",
    "N2 = find_separation_point(y_ini, h_phi, t_tilde, t_tilde2)\n",
    "N3 = find_separation_point(y_ini, h_phi, t_tilde, t_tilde3) \n",
    "N4 = find_separation_point(y_ini, h_phi, t_tilde, t_tilde4) \n",
    "N5 = find_separation_point(y_ini, h_phi, t_tilde, t_tilde5) \n",
    "N6 = find_separation_point(y_ini, h_phi, t_tilde, t_tilde6) \n",
    "N7 = find_separation_point(y_ini, h_phi, t_tilde, t_tilde7) \n",
    "N8 = find_separation_point(y_ini, h_phi, t_tilde, t_tilde8) \n",
    "N9 = find_separation_point(y_ini, h_phi, t_tilde, t_tilde9) \n",
    "N10 = find_separation_point(y_ini, h_phi, t_tilde, t_tilde10) \n",
    "N11 = find_separation_point(y_ini, h_phi, t_tilde, t_tilde11) \n",
    "N12 = find_separation_point(y_ini, h_phi, t_tilde, t_tilde12) "
   ]
  },
  {
   "cell_type": "code",
   "execution_count": 22,
   "id": "c954294d",
   "metadata": {},
   "outputs": [
    {
     "data": {
      "image/png": "[encoded data removed]",
      "text/plain": [
       "<Figure size 432x288 with 1 Axes>"
      ]
     },
     "metadata": {
      "needs_background": "light"
     },
     "output_type": "display_data"
    }
   ],
   "source": [
    "#plotting the results\n",
    "log_t_tilde = [-1,-2,-3,-4,-5,-6,-7,-8,-9,-10,-11,-12]\n",
    "N_turns = [N1,N2,N3,N4,N5,N6,N7,N8,N9,N10,N11,N12]\n",
    "\n",
    "plt.figure()\n",
    "plt.scatter(log_t_tilde, N_turns)\n",
    "plt.xlabel('$log_{10}(t_{tilde})$')\n",
    "plt.ylabel('Number of rotations')\n",
    "plt.show()"
   ]
  },
  {
   "cell_type": "code",
   "execution_count": null,
   "id": "bfeee795",
   "metadata": {},
   "outputs": [],
   "source": []
  }
 ],
 "metadata": {
  "kernelspec": {
   "display_name": "Python 3 (ipykernel)",
   "language": "python",
   "name": "python3"
  },
  "language_info": {
   "codemirror_mode": {
    "name": "ipython",
    "version": 3
   },
   "file_extension": ".py",
   "mimetype": "text/x-python",
   "name": "python",
   "nbconvert_exporter": "python",
   "pygments_lexer": "ipython3",
   "version": "3.9.12"
  }
 },
 "nbformat": 4,
 "nbformat_minor": 5
}
