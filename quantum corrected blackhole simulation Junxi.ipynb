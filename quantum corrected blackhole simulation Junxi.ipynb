{
 "cells": [
  {
   "cell_type": "markdown",
   "id": "f0d9a71c",
   "metadata": {},
   "source": [
    "# Python simulation of Photon orbits near quantum corrected blackhole"
   ]
  },
  {
   "cell_type": "markdown",
   "id": "91c37ca9",
   "metadata": {},
   "source": [
    "The purpose of this code is to simulate the orbits of photon near blackhole and make comparison between classical blackhole and quantum corrected blackhole."
   ]
  },
  {
   "cell_type": "markdown",
   "id": "ffd2ee86",
   "metadata": {},
   "source": [
    "Here we import some initial package"
   ]
  },
  {
   "cell_type": "code",
   "execution_count": 16,
   "id": "81a6a907",
   "metadata": {},
   "outputs": [],
   "source": [
    "import numpy as np\n",
    "import scipy\n",
    "import matplotlib.pyplot as plt"
   ]
  },
  {
   "cell_type": "markdown",
   "id": "961237f6",
   "metadata": {},
   "source": [
    "Now we define some constants "
   ]
  },
  {
   "cell_type": "markdown",
   "id": "638ab9a0",
   "metadata": {},
   "source": [
    "Notice that the range of impact parameter provide faster simulation time when choose start range which is bigger than 2M."
   ]
  },
  {
   "cell_type": "code",
   "execution_count": 26,
   "id": "bff88be9",
   "metadata": {},
   "outputs": [],
   "source": [
    "M = 1 # mass of the blackhole\n",
    "b_range = (2.00001*M, 50*M) # range of impact parameter\n",
    "b_points = 100 # number of sample chosen for impact parameter\n",
    "phi_points = 100 # number of sample chosen for azimuthal angle\n",
    "t = 0.1 # the quantum fluctuation coefficient\n",
    "theta = 4*np.pi/9 # angle of viewing point"
   ]
  },
  {
   "cell_type": "markdown",
   "id": "1090fef7",
   "metadata": {},
   "source": [
    "We need numerical calculation here, one can consider Newton-Raphson method"
   ]
  },
  {
   "cell_type": "code",
   "execution_count": 27,
   "id": "4b183be9",
   "metadata": {},
   "outputs": [],
   "source": [
    "def newton_raphson(f, df, x0, tolerance=1e-7, max_iterations=100000):\n",
    "\n",
    "    x = x0\n",
    "    for i in range(max_iterations):\n",
    "        fx = f(x,t,r,M,x0)\n",
    "        dfx = df(x,t,r,M,x0)\n",
    "\n",
    "        if dfx == 0:\n",
    "            return None\n",
    "\n",
    "        x_new = x - fx / dfx\n",
    "\n",
    "        if abs(x_new - x) < tolerance:\n",
    "\n",
    "            return x_new\n",
    "\n",
    "        x = x_new\n",
    "\n",
    "\n",
    "    return x"
   ]
  },
  {
   "cell_type": "markdown",
   "id": "27a51fc7",
   "metadata": {},
   "source": [
    "Defines quantum corrected components of the metric"
   ]
  },
  {
   "cell_type": "code",
   "execution_count": 19,
   "id": "5ae43bf4",
   "metadata": {},
   "outputs": [],
   "source": [
    "def h_theta(r,M):\n",
    "\n",
    "    return -4*M*r*(2*M/r-1/np.tanh(r/2/M))\n",
    "\n",
    "def h_phi(r,M):\n",
    "\n",
    "    return -4*M*r*(2*M/r-1/np.tanh(r/2/M))\n",
    "def h_rr(r,M):\n",
    "\n",
    "    return -2*(2*M/r)**2/(1-2*M/r)**2*((2*M/r)**2-1/np.tanh((r/2/M)**2))\n",
    "\n",
    "def h_tt(r,M):\n",
    "\n",
    "    return -2*(2*M/r)**3*((2*M/r)**2-1/np.tanh((r/2/M)**2))\n",
    "\n",
    "#defining Jacobian in converting spherical coordinate and Cartesian coordinate\n",
    "def T(phi,theta,r,t):\n",
    "    return np.array([[1,0,0,0],[0,np.cos(phi)*np.sin(theta),r*np.cos(theta)*np.cos(phi),-r*np.sin(theta)*np.sin(phi)]\n",
    "            ,[0,np.sin(theta)*np.sin(phi),r*np.sin(phi)*np.cos(theta),r*np.sin(theta)*np.cos(phi)],\n",
    "            [0,np.cos(theta),-r*np.sin(theta),0]])\n",
    "\n",
    "def J(phi,theta,r,t):\n",
    "    return np.linalg.inv(T(phi,theta,r,t))\n",
    "\n",
    "\n",
    "# Metric to calculate P\n",
    "def g00(phi,theta,r,t,M):\n",
    "    return -(1-2*M/r-t*h_tt(r, M))\n",
    "\n",
    "def g11(phi,theta,r,t,M):\n",
    "    return 1/(1-2*M/r)+t*h_rr(r, M)\n",
    "\n",
    "def g22(phi,theta,r,t,M):\n",
    "    return r**2+t*h_theta(r,M)\n",
    "\n",
    "def g33(phi,theta,r,t,M):\n",
    "    return r**2*np.sin(theta)**2+t*h_phi(r,M)\n",
    "\n",
    "def g(phi,theta,r,t,M):\n",
    "    return np.array([[g00(phi,theta,r,t,M),0,0,0],[0,g11(phi,theta,r,t,M),0,0],\n",
    "                     [0,0,g22(phi,theta,r,t,M),0],[0,0,0,g33(phi,theta,r,t,M)]])\n",
    "\n",
    "#Metric to calculate gamma\n",
    "def z00(phi,theta,r,t,M):\n",
    "    return -(1-t*h_tt(r, M))\n",
    "\n",
    "def z11(phi,theta,r,t,M):\n",
    "    return 1+t*h_rr(r, M)\n",
    "\n",
    "def z22(phi,theta,r,t,M):\n",
    "    return r**2+t*h_theta(r,M)\n",
    "\n",
    "def z33(phi,theta,r,t,M):\n",
    "    return r**2*np.sin(theta)**2+t*h_phi(r,M)\n",
    "\n",
    "def z(phi,theta,r,t,M):\n",
    "    return np.array([[z00(phi,theta,r,t,M),0,0,0],[0,z11(phi,theta,r,t,M),0,0],\n",
    "                     [0,0,z22(phi,theta,r,t,M),0],[0,0,0,z33(phi,theta,r,t,M)]])\n",
    "\n",
    "def Z1(phi,theta,r,t,M):\n",
    "    return np.dot(np.transpose(J(phi,theta,r,t)),np.dot(z(phi,theta,r,t,M),J(phi,theta,r,t)))\n",
    "\n"
   ]
  },
  {
   "cell_type": "markdown",
   "id": "0dcdb385",
   "metadata": {},
   "source": [
    "functions to calculate u (1/r)"
   ]
  },
  {
   "cell_type": "code",
   "execution_count": 20,
   "id": "42b3e8cc",
   "metadata": {},
   "outputs": [],
   "source": [
    "def m(phi):\n",
    "    return np.array([0,np.sin(phi),np.cos(phi),0])\n",
    "\n",
    "def Y(theta):\n",
    "    return np.array([0,0,np.sin(theta),np.sin(theta)])\n",
    "\n",
    "def gamma(phi,theta,r,t,M):\n",
    "    detY = np.sqrt(np.dot(Y(theta),np.dot(Z1(phi,theta,r,t,M),np.transpose(Y(theta)))))\n",
    "    detm = np.sqrt(np.dot(m(phi),np.dot(Z1(phi,theta,r,t,M),np.transpose(m(phi)))))\n",
    "    angle = np.dot(m(phi),np.dot(Z1(phi,theta,r,t,M),np.transpose(Y(theta))))/detY/detm\n",
    "    return np.arccos(angle)"
   ]
  },
  {
   "cell_type": "markdown",
   "id": "ea528dd8",
   "metadata": {},
   "source": [
    "Define Jacobian in converting spherical coordinate and Cartesian coordinate"
   ]
  },
  {
   "cell_type": "code",
   "execution_count": 21,
   "id": "f53b3b62",
   "metadata": {},
   "outputs": [],
   "source": [
    "#Definition of Jacobi Elliptic function\n",
    "def F(xi,k):\n",
    "\n",
    "    return scipy.special.ellipkinc(xi,k)\n",
    "\n",
    "def K(k):\n",
    "\n",
    "    return scipy.special.ellipk(k)\n",
    "\n",
    "#Definition of evaluting Jacobi function\n",
    "\n",
    "def f(p,t,r,M,b):\n",
    "    return (p**2-t*h_phi(r, M))/(1-2*M/p-t*h_tt(r, M))-b**2\n",
    "\n",
    "def df(p,t,r,M,b):\n",
    "    return (2*p*(1-2*M/p-t*h_tt(r, M))+(p**2-t*h_phi(r, M))*2*M/p**2)/(1-2*M/p-t*h_tt(r, M))**2\n",
    "\n",
    "def P(t,r,M,b):\n",
    "    p = np.real(newton_raphson(f, df, b))\n",
    "    return p\n",
    "\n",
    "def Q(t,r,M,b):\n",
    "    Qs = (P(t,r,M,b)-2*M)*(P(t,r,M,b)+6*M)\n",
    "    if Qs >= 0:\n",
    "        return np.sqrt(Qs)\n",
    "    else:\n",
    "        return 0\n",
    "\n",
    "def k(t,r,M,b):\n",
    "    return np.sqrt((Q(t,r,M,b)-P(t,r,M,b)+6*M)/(2*Q(t,r,M,b)))\n",
    "\n",
    "def xi1(t,r,M,b):\n",
    "    return np.arcsin(np.sqrt((Q(t,r,M,b)-P(t,r,M,b)+2*M)/(Q(t,r,M,b)-P(t,r,M,b)+6*M)))\n",
    "\n",
    "def u(t,r,M,b,phi,theta):\n",
    "    SN = scipy.special.ellipj(gamma(phi,theta,r,t,M)/2*np.sqrt(P(t,r,M,b)/Q(t,r,M,b))\n",
    "            +F(xi1(t,r,M,b),k(t,r,M,b)),k(t,r,M,b))[0]\n",
    "    return (-(Q(t,r,M,b)-P(t,r,M,b)+2*M)/(4*M*P(t,r,M,b))\n",
    "            +((Q(t,r,M,b)-P(t,r,M,b)+6*M)/(4*M*P(t,r,M,b)))\n",
    "            *SN**2)\n",
    "\n",
    "def u1(t,r,M,b,phi,theta):\n",
    "    SN = scipy.special.ellipj((gamma(phi,theta,r,t,M)-2*np.pi)/2*np.sqrt(P(t,r,M,b)/Q(t,r,M,b))\n",
    "            -F(xi1(t,r,M,b),k(t,r,M,b))+2*K(k(t,r,M,b)),k(t,r,M,b))[0]\n",
    "    return (-(Q(t,r,M,b)-P(t,r,M,b)+2*M)/(4*M*P(t,r,M,b))\n",
    "            +((Q(t,r,M,b)-P(t,r,M,b)+6*M)/(4*M*P(t,r,M,b)))\n",
    "            *SN**2)\n"
   ]
  },
  {
   "cell_type": "markdown",
   "id": "f3fe3c8a",
   "metadata": {},
   "source": [
    "Define the mesh function to calculate r value at each phi and b for primary and secondary orbits"
   ]
  },
  {
   "cell_type": "code",
   "execution_count": 22,
   "id": "dc035bfd",
   "metadata": {},
   "outputs": [],
   "source": [
    "#define mesh for the primary orbit\n",
    "def mesh(b_range,phi_range,b_points,phi_points,t,r,M,theta):\n",
    "    b = np.linspace(b_range[0], b_range[1], b_points)\n",
    "    phi = np.linspace(phi_range[0], phi_range[1], phi_points)\n",
    "    Phi, B = np.meshgrid(b,phi)\n",
    "    x, y = custom_transform(Phi, B,theta)\n",
    "    Z=np.empty((0,b_points))\n",
    "    for i in phi:\n",
    "        array = []\n",
    "        for j in b:\n",
    "            array = np.append(array,np.real(1/u(t,r,M,j,i,theta)))\n",
    "        Z = np.vstack((Z,array))\n",
    "    return x,y,Z\n",
    "\n",
    "#define mesh for the secondary orbit\n",
    "def mesh1(b_range,phi_range,b_points,phi_points,t,r,M,theta):\n",
    "    b = np.linspace(b_range[0], b_range[1], b_points)\n",
    "    phi = np.linspace(phi_range[0], phi_range[1], phi_points)\n",
    "    Phi, B = np.meshgrid(b,phi)\n",
    "    x, y = custom_transform(Phi, B,theta)\n",
    "    Z=np.empty((0,b_points))\n",
    "    for i in phi:\n",
    "        array = []\n",
    "        for j in b:\n",
    "            array = np.append(array,np.real(1/u1(t,r,M,j,i,theta)))\n",
    "        Z = np.vstack((Z,array))\n",
    "    return x,y,Z\n"
   ]
  },
  {
   "cell_type": "markdown",
   "id": "ae629e4d",
   "metadata": {},
   "source": [
    "The mesh function here is in Cartesian coordinate, one should change into polar coodinate"
   ]
  },
  {
   "cell_type": "code",
   "execution_count": 23,
   "id": "e4f81554",
   "metadata": {},
   "outputs": [],
   "source": [
    "def custom_transform(a, b, theta):\n",
    "    \"\"\"\n",
    "    Perform the custom transformation as described in the Mathematica code.\n",
    "\n",
    "    Parameters:\n",
    "    a : ndarray\n",
    "        Radial coordinate.\n",
    "    b : ndarray\n",
    "        Angular coordinate.\n",
    "\n",
    "    Returns:\n",
    "    x, y : ndarray\n",
    "        Transformed Cartesian coordinates.\n",
    "    \"\"\"\n",
    "    angle = theta\n",
    "    cos_angle = np.cos(angle)\n",
    "    sin_angle = np.sin(angle)\n",
    "    sqrt_term = np.sqrt(1 - (sin_angle**2) * (np.cos(b)**2))\n",
    "\n",
    "    x = a * (np.cos(b) * cos_angle / sqrt_term)\n",
    "    y = a * (np.sin(b) / sqrt_term)\n",
    "\n",
    "    return x, y\n"
   ]
  },
  {
   "cell_type": "markdown",
   "id": "e3bc2e40",
   "metadata": {},
   "source": [
    "This is the running code"
   ]
  },
  {
   "cell_type": "code",
   "execution_count": null,
   "id": "78e2e7b0",
   "metadata": {},
   "outputs": [],
   "source": [
    "if __name__ == \"__main__\":\n",
    "    r = 3*M\n",
    "    r_array = [3*M,6*M,10*M,20*M,30*M]\n",
    "    phi_range = (0, 2*np.pi)\n",
    "    x_01, y_01, R_01 = mesh1(b_range, phi_range, b_points, phi_points,0,r,M,theta)\n",
    "    x_00, y_00, R_00 = mesh(b_range, phi_range, b_points, phi_points,0,r,M,theta)\n",
    "    x_01, y_01, R_01 = mesh1(b_range, phi_range, b_points, phi_points,0,r,M,theta)\n",
    "    x_10, y_10, R_10 = mesh(b_range, phi_range, b_points, phi_points,t,r_array[0],M,theta)\n",
    "    x_11, y_11, R_11 = mesh1(b_range, phi_range, b_points, phi_points,t,r_array[0],M,theta)\n",
    "    x_20, y_20, R_20 = mesh(b_range, phi_range, b_points, phi_points,t,r_array[1],M,theta)\n",
    "    x_21, y_21, R_21 = mesh1(b_range, phi_range, b_points, phi_points,t,r_array[1],M,theta)\n",
    "    x_30, y_30, R_30 = mesh(b_range, phi_range, b_points, phi_points,t,r_array[2],M,theta)\n",
    "    x_31, y_31, R_31 = mesh1(b_range, phi_range, b_points, phi_points,t,r_array[2],M,theta)\n",
    "    x_40, y_40, R_40 = mesh(b_range, phi_range, b_points, phi_points,t,r_array[3],M,theta)\n",
    "    x_41, y_41, R_41 = mesh1(b_range, phi_range, b_points, phi_points,t,r_array[3],M,theta)\n",
    "    x_50, y_50, R_50 = mesh(b_range, phi_range, b_points, phi_points,t,r_array[4],M,theta)\n",
    "    x_51, y_51, R_51 = mesh1(b_range, phi_range, b_points, phi_points,t,r_array[4],M,theta)\n",
    "    \n",
    "    #plot the results\n",
    "    fig = plt.figure(dpi=600,figsize=(8,16))\n",
    "    ax = fig.add_subplot(111)\n",
    "    ax.set_aspect(2)\n",
    "    \n",
    "    plt.contour(x_10,y_10,R_10,[3*M],colors='black')\n",
    "    plt.contour(x_11,y_11,R_11,[3*M],colors='green')\n",
    "    plt.contour(x_20,y_20,R_20,[6*M],colors='blue')\n",
    "    plt.contour(x_21,y_21,R_21,[6*M],colors='green')\n",
    "    plt.contour(x_30,y_30,R_30,[10*M],colors='blue')\n",
    "    plt.contour(x_31,y_31,R_31,[10*M],colors='green')\n",
    "    plt.contour(x_40,y_40,R_40,[20*M],colors='blue')\n",
    "    plt.contour(x_41,y_41,R_41,[20*M],colors='green')\n",
    "    plt.contour(x_50,y_50,R_50,[30*M],colors='blue')\n",
    "    plt.contour(x_51,y_51,R_51,[30*M],colors='green')\n",
    "    plt.contour(x_00,y_00,R_00,[3*M,6*M,10*M,20*M,30*M],colors='black',linestyles='dashed')\n",
    "    \n",
    "    plt.contour(x_01,y_01,R_01,[3*M,6*M,10*M,20*M,30*M],colors='red',linestyles='dashed')\n",
    " \n",
    "    plt.legend()\n",
    "    plt.xlabel('Width/M')\n",
    "    plt.ylabel('Length/M')\n",
    "    plt.title('Quantum corrected blackhole')\n",
    "    plt.show()\n",
    "\n",
    "\n"
   ]
  },
  {
   "cell_type": "code",
   "execution_count": null,
   "id": "3daa5a1c",
   "metadata": {},
   "outputs": [],
   "source": []
  },
  {
   "cell_type": "code",
   "execution_count": null,
   "id": "88f63ab0",
   "metadata": {},
   "outputs": [],
   "source": []
  }
 ],
 "metadata": {
  "kernelspec": {
   "display_name": "Python 3",
   "language": "python",
   "name": "python3"
  }
 },
 "nbformat": 4,
 "nbformat_minor": 5
}
